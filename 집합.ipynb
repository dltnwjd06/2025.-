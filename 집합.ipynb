{
  "nbformat": 4,
  "nbformat_minor": 0,
  "metadata": {
    "colab": {
      "provenance": [],
      "authorship_tag": "ABX9TyN7ksUEKtsRQjcNblbUW3Ms",
      "include_colab_link": true
    },
    "kernelspec": {
      "name": "python3",
      "display_name": "Python 3"
    },
    "language_info": {
      "name": "python"
    }
  },
  "cells": [
    {
      "cell_type": "markdown",
      "metadata": {
        "id": "view-in-github",
        "colab_type": "text"
      },
      "source": [
        "<a href=\"https://colab.research.google.com/github/dltnwjd06/2025.DM/blob/main/%EC%A7%91%ED%95%A9.ipynb\" target=\"_parent\"><img src=\"https://colab.research.google.com/assets/colab-badge.svg\" alt=\"Open In Colab\"/></a>"
      ]
    },
    {
      "cell_type": "code",
      "execution_count": 2,
      "metadata": {
        "colab": {
          "base_uri": "https://localhost:8080/"
        },
        "id": "dcL2wr5K0a06",
        "outputId": "6fecfc5a-30a2-4d85-b4d4-2798b74f69f4"
      },
      "outputs": [
        {
          "output_type": "stream",
          "name": "stdout",
          "text": [
            "{1, 2, 3}\n",
            "{2, 3, 4}\n",
            "{2, 3}\n",
            "{1, 2, 3, 4}\n",
            "{1}\n"
          ]
        }
      ],
      "source": [
        "s1=set([1,2,3])\n",
        "print(s1)\n",
        "s2=set([2,3,4])\n",
        "print(s2)\n",
        "\n",
        "print(s1 & s2) #교집합\n",
        "print(s1 | s2) #합집합\n",
        "print(s1 - s2) #차집합"
      ]
    },
    {
      "cell_type": "code",
      "source": [
        "bankA = set([\"김철수\", \"이영희\", \"박민수\", \"최지우\"])\n",
        "bankB = set([\"이영희\", \"최지우\", \"정우성\", \"한지민\"])\n",
        "\n",
        "print(\"A 은행 고객 : \", bankA)\n",
        "print(\"B 은행 고객 : \", bankB)\n",
        "\n",
        "every_customers = bankA | bankB\n",
        "print(\"합병 후 전체 고객 : \", every_customers)\n",
        "\n",
        "common_customers = bankA & bankB\n",
        "print(\"A 은행과 B 은행에 모두 속하는 고객 : \", common_customers)\n",
        "\n",
        "only_a = bankA - bankB\n",
        "print(\"A 은행에만 속하는 고객 : \", only_a)\n",
        "\n",
        "only_b = bankB - bankA\n",
        "print(\"B 은행에만 속하는 고객 : \", only_b)"
      ],
      "metadata": {
        "colab": {
          "base_uri": "https://localhost:8080/"
        },
        "id": "Cp6SnimGAK_x",
        "outputId": "d1609bfa-7061-4b3e-bbf0-77a098f662ef"
      },
      "execution_count": 3,
      "outputs": [
        {
          "output_type": "stream",
          "name": "stdout",
          "text": [
            "A 은행 고객 :  {'박민수', '이영희', '김철수', '최지우'}\n",
            "B 은행 고객 :  {'정우성', '이영희', '최지우', '한지민'}\n",
            "합병 후 전체 고객 :  {'정우성', '박민수', '이영희', '최지우', '김철수', '한지민'}\n",
            "A 은행과 B 은행에 모두 속하는 고객 :  {'이영희', '최지우'}\n",
            "A 은행에만 속하는 고객 :  {'박민수', '김철수'}\n",
            "B 은행에만 속하는 고객 :  {'정우성', '한지민'}\n"
          ]
        }
      ]
    },
    {
      "cell_type": "code",
      "source": [
        "import numpy as np\n",
        "\n",
        "faber = {\n",
        "    \"White\" : (255, 255, 255),\n",
        "    \"Black\" : (0, 0, 0),\n",
        "    \"Brown\" : (150, 75, 0),\n",
        "    \"Orange\" : (255, 127, 0),\n",
        "    \"Red\" : (255, 0, 0),\n",
        "    \"Yellow\" : (255, 255, 0),\n",
        "    \"Light Green\" : (0, 255, 0),\n",
        "    \"Green\" : (0, 128, 0),\n",
        "    \"Light Blue\" : (0, 255, 255),\n",
        "    \"Blue\" : (0, 0, 255),\n",
        "    \"Purple\" : (128, 0, 128),\n",
        "    \"Pink\" : (255, 192, 203)\n",
        "}\n",
        "\n",
        "input_c = (120, 120, 200)\n",
        "\n",
        "def find(input_rgb, color_set):\n",
        "  min_dist = float('inf')\n",
        "  nearest_name = None\n",
        "  for name, rgb in color_set.items():\n",
        "      dist = np.sqrt(sum((a-b) ** 2 for a, b in zip(input_rgb, rgb)))\n",
        "      if dist < min_dist:\n",
        "          min_distance = dist\n",
        "          nearest_name = name\n",
        "  return nearest_name, color_set[nearest_name]\n",
        "\n",
        "nearest_name, nearest_rgb = find(input_c, faber)\n",
        "\n",
        "print(f\"입력 색상 : {input_c}\")\n",
        "print(f\"가장 가까운 파버카스텔 색상 : {nearest_name}, RGB : {nearest_rgb}\")"
      ],
      "metadata": {
        "id": "i5_v_R4dALH5",
        "colab": {
          "base_uri": "https://localhost:8080/"
        },
        "outputId": "8d486540-7ce3-4ce7-a64e-73012a8ed2c7"
      },
      "execution_count": 16,
      "outputs": [
        {
          "output_type": "stream",
          "name": "stdout",
          "text": [
            "입력 색상 : (120, 120, 200)\n",
            "가장 가까운 파버카스텔 색상 : Pink, RGB : (255, 192, 203)\n"
          ]
        }
      ]
    },
    {
      "cell_type": "code",
      "source": [],
      "metadata": {
        "id": "YyzUCR0gB4Gg"
      },
      "execution_count": 4,
      "outputs": []
    }
  ]
}